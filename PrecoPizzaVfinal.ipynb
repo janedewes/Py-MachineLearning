{
  "nbformat": 4,
  "nbformat_minor": 0,
  "metadata": {
    "colab": {
      "name": "PrecoPizzaVfinal.ipynb",
      "provenance": [],
      "collapsed_sections": [],
      "authorship_tag": "ABX9TyP13Smj78mOeDAvvEtUP5gH"
    },
    "kernelspec": {
      "name": "python3",
      "display_name": "Python 3"
    }
  },
  "cells": [
    {
      "cell_type": "markdown",
      "metadata": {
        "id": "JOVfKqQWJwG8",
        "colab_type": "text"
      },
      "source": [
        "Prever o valor de uma pizza\n",
        "\n",
        "- Regressão Linear - modelar a relação entre tamanho (diâmetro) e preço usando Scikit-learn.\n",
        "- A técnica de regressão é um modelo que usa análise de dados que procura entender a relação entre o comportamento de determinado fenomeno e o comportamento de uma ou mais variáveis potencialmente preditoras, sem que haja uma obrigatoriedade na relação de causa e efeito."
      ]
    },
    {
      "cell_type": "code",
      "metadata": {
        "id": "HSgNDNDqKBrN",
        "colab_type": "code",
        "colab": {}
      },
      "source": [
        "# Importando Matplotlib e Numpy\n",
        "import matplotlib.pyplot as plt\n",
        "import matplotlib as mat\n",
        "import numpy as np\n",
        "%matplotlib inline"
      ],
      "execution_count": 2,
      "outputs": []
    },
    {
      "cell_type": "code",
      "metadata": {
        "id": "1H1B6EU7KSxu",
        "colab_type": "code",
        "colab": {
          "base_uri": "https://localhost:8080/",
          "height": 35
        },
        "outputId": "9fe0002d-f642-4177-dcf3-0a24f47eaa48"
      },
      "source": [
        "mat.__version__"
      ],
      "execution_count": 4,
      "outputs": [
        {
          "output_type": "execute_result",
          "data": {
            "application/vnd.google.colaboratory.intrinsic+json": {
              "type": "string"
            },
            "text/plain": [
              "'3.2.2'"
            ]
          },
          "metadata": {
            "tags": []
          },
          "execution_count": 4
        }
      ]
    },
    {
      "cell_type": "code",
      "metadata": {
        "id": "zrZ-8WoMKwDk",
        "colab_type": "code",
        "colab": {
          "base_uri": "https://localhost:8080/",
          "height": 35
        },
        "outputId": "838b785a-04e7-40be-86fb-ba5507c346ce"
      },
      "source": [
        "np.__version__"
      ],
      "execution_count": 5,
      "outputs": [
        {
          "output_type": "execute_result",
          "data": {
            "application/vnd.google.colaboratory.intrinsic+json": {
              "type": "string"
            },
            "text/plain": [
              "'1.18.5'"
            ]
          },
          "metadata": {
            "tags": []
          },
          "execution_count": 5
        }
      ]
    },
    {
      "cell_type": "code",
      "metadata": {
        "id": "E1XCUkOYKS8h",
        "colab_type": "code",
        "colab": {}
      },
      "source": [
        "# Dados históricos coletados: \n",
        "# Diâmetros (cm)\n",
        "Diametros = [[7], [10], [15], [30], [45]]\n",
        "\n",
        "# Preços (R$)\n",
        "Precos = [[8], [11], [16], [38.5], [52]]"
      ],
      "execution_count": 6,
      "outputs": []
    },
    {
      "cell_type": "code",
      "metadata": {
        "id": "kaJepTytKTGH",
        "colab_type": "code",
        "colab": {
          "base_uri": "https://localhost:8080/",
          "height": 295
        },
        "outputId": "5230d13c-666e-4735-a6cd-349d3fe75c1d"
      },
      "source": [
        "# Visualizar os dados e construir um plot:\n",
        "plt.figure()\n",
        "plt.xlabel('Diâmetro(cm)')\n",
        "plt.ylabel('Preço(R$)')\n",
        "plt.title('Diâmetro x Preço')\n",
        "plt.plot(Diametros, Precos, 'k.')\n",
        "plt.axis([0, 60, 0, 60])\n",
        "plt.grid(True)\n",
        "plt.show()"
      ],
      "execution_count": 7,
      "outputs": [
        {
          "output_type": "display_data",
          "data": {
            "image/png": "[encoded data removed]",
            "text/plain": [
              "<Figure size 432x288 with 1 Axes>"
            ]
          },
          "metadata": {
            "tags": [],
            "needs_background": "light"
          }
        }
      ]
    },
    {
      "cell_type": "code",
      "metadata": {
        "id": "BBpqDRwOKTSf",
        "colab_type": "code",
        "colab": {}
      },
      "source": [
        "# Importando o módulo de Regressão Linear do scikit-learn\n",
        "from sklearn.linear_model import LinearRegression"
      ],
      "execution_count": 8,
      "outputs": []
    },
    {
      "cell_type": "code",
      "metadata": {
        "id": "DWWSSplkKTco",
        "colab_type": "code",
        "colab": {}
      },
      "source": [
        "# Preparando os dados de treino\n",
        "\n",
        "# Vamos chamar de X os dados de diâmetro da Pizza.\n",
        "X = [[7], [10], [15], [30], [45]]\n",
        "\n",
        "# Vamos chamar de Y os dados de preço da Pizza.\n",
        "Y = [[8], [11], [16], [38.5], [52]]"
      ],
      "execution_count": 9,
      "outputs": []
    },
    {
      "cell_type": "code",
      "metadata": {
        "id": "y9mjXouhLIfP",
        "colab_type": "code",
        "colab": {}
      },
      "source": [
        "# Criando o modelo - instanciar objeto\n",
        "modelo = LinearRegression()"
      ],
      "execution_count": 10,
      "outputs": []
    },
    {
      "cell_type": "code",
      "metadata": {
        "id": "5bnwHpuvLMwX",
        "colab_type": "code",
        "colab": {
          "base_uri": "https://localhost:8080/",
          "height": 34
        },
        "outputId": "cd86a42b-d2a0-48b8-a1ee-11473c4c0d42"
      },
      "source": [
        "type(modelo)"
      ],
      "execution_count": 11,
      "outputs": [
        {
          "output_type": "execute_result",
          "data": {
            "text/plain": [
              "sklearn.linear_model._base.LinearRegression"
            ]
          },
          "metadata": {
            "tags": []
          },
          "execution_count": 11
        }
      ]
    },
    {
      "cell_type": "code",
      "metadata": {
        "id": "YUBUDBr6LOU2",
        "colab_type": "code",
        "colab": {
          "base_uri": "https://localhost:8080/",
          "height": 34
        },
        "outputId": "1eb8e7d9-354e-426c-bd6b-0d5f01300e08"
      },
      "source": [
        "# Treinando o modelo\n",
        "modelo.fit(X, Y)"
      ],
      "execution_count": 12,
      "outputs": [
        {
          "output_type": "execute_result",
          "data": {
            "text/plain": [
              "LinearRegression(copy_X=True, fit_intercept=True, n_jobs=None, normalize=False)"
            ]
          },
          "metadata": {
            "tags": []
          },
          "execution_count": 12
        }
      ]
    },
    {
      "cell_type": "code",
      "metadata": {
        "id": "NIjViEGALW75",
        "colab_type": "code",
        "colab": {
          "base_uri": "https://localhost:8080/",
          "height": 34
        },
        "outputId": "47b964e1-37f9-489c-8625-c33d1fe8e932"
      },
      "source": [
        "# Prevendo o preço de uma pizza de 20 cm de diâmetro\n",
        "\n",
        "print(\"Uma pizza de 20 cm de diâmetro deve custar: R$%.2f\" % modelo.predict([[20]]))"
      ],
      "execution_count": 14,
      "outputs": [
        {
          "output_type": "stream",
          "text": [
            "Uma pizza de 20 cm de diâmetro deve custar: R$23.41\n"
          ],
          "name": "stdout"
        }
      ]
    },
    {
      "cell_type": "markdown",
      "metadata": {
        "id": "KlCBeqBmLv8d",
        "colab_type": "text"
      },
      "source": [
        "Y – é o valor previsto da variável dependente (em nosso exemplo o preço da Pizza)\n",
        "\n",
        "X – é a variável explanatória (em nosso exemplo o diâmetro da Pizza)\n",
        "\n",
        "\n",
        "Alfa é o termo de intercepção ou coeficiente linear \n",
        "\n",
        "Beta é o coeficiente de cada variável ou coeficiente angular\n",
        "\n",
        "\n",
        "Alfa e Beta são parâmetros do modelo que são aprendidos pelo algoritmo de aprendizagem."
      ]
    },
    {
      "cell_type": "markdown",
      "metadata": {
        "id": "CX6fxggFMUog",
        "colab_type": "text"
      },
      "source": [
        "# Construindo um Scatter Plot\n"
      ]
    },
    {
      "cell_type": "code",
      "metadata": {
        "id": "LzFNZjhxLxbN",
        "colab_type": "code",
        "colab": {
          "base_uri": "https://localhost:8080/",
          "height": 85
        },
        "outputId": "8335e3e9-070b-4e10-999e-81ac4fda17aa"
      },
      "source": [
        "# Coeficientes\n",
        "print('Coeficiente: \\n', modelo.coef_)\n",
        "\n",
        "# MSE (mean square error)\n",
        "print(\"MSE: %.2f\" % np.mean((modelo.predict(X) - Y) ** 2))\n",
        "\n",
        "# Score de variação: 1 representa predição perfeita\n",
        "print('Score de variação: %.2f' % modelo.score(X, Y))"
      ],
      "execution_count": 15,
      "outputs": [
        {
          "output_type": "stream",
          "text": [
            "Coeficiente: \n",
            " [[1.20422117]]\n",
            "MSE: 2.74\n",
            "Score de variação: 0.99\n"
          ],
          "name": "stdout"
        }
      ]
    },
    {
      "cell_type": "code",
      "metadata": {
        "id": "xka9CjhdMfIu",
        "colab_type": "code",
        "colab": {
          "base_uri": "https://localhost:8080/",
          "height": 262
        },
        "outputId": "dbca40d1-81cb-4773-dbf2-81496f6b5ea0"
      },
      "source": [
        "# Scatter Plot representando a regressão linear\n",
        "plt.scatter(X, Y,  color = 'black')\n",
        "plt.plot(X, modelo.predict(X), color = 'blue', linewidth = 3)\n",
        "plt.xlabel('X')\n",
        "plt.ylabel('Y')\n",
        "plt.xticks(())\n",
        "plt.yticks(())\n",
        "\n",
        "plt.show()"
      ],
      "execution_count": 17,
      "outputs": [
        {
          "output_type": "display_data",
          "data": {
            "image/png": "[encoded data removed]",
            "text/plain": [
              "<Figure size 432x288 with 1 Axes>"
            ]
          },
          "metadata": {
            "tags": []
          }
        }
      ]
    },
    {
      "cell_type": "markdown",
      "metadata": {
        "id": "rvRlhyTsMg9N",
        "colab_type": "text"
      },
      "source": [
        "É possível fornecer qualquer tamanho de diâmetro(x) que o modelo retorna o valor (y)\n",
        "\n",
        "Fim "
      ]
    }
  ]
}