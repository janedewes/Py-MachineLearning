{
  "nbformat": 4,
  "nbformat_minor": 0,
  "metadata": {
    "colab": {
      "name": "StreamDeDadosTwitterVfinal.ipynb",
      "provenance": [],
      "collapsed_sections": [],
      "authorship_tag": "ABX9TyMlXOzEj6DuwAtShpIuhz7u",
      "include_colab_link": true
    },
    "kernelspec": {
      "name": "python3",
      "display_name": "Python 3"
    }
  },
  "cells": [
    {
      "cell_type": "markdown",
      "metadata": {
        "id": "view-in-github",
        "colab_type": "text"
      },
      "source": [
        "<a href=\"https://colab.research.google.com/github/janedewes/Py-MachineLearning/blob/master/StreamDeDadosTwitterVfinal.ipynb\" target=\"_parent\"><img src=\"https://colab.research.google.com/assets/colab-badge.svg\" alt=\"Open In Colab\"/></a>"
      ]
    },
    {
      "cell_type": "markdown",
      "metadata": {
        "id": "JxNHFVX3pGhl",
        "colab_type": "text"
      },
      "source": [
        "## Stream de Dados do Twitter com MongoDB, Pandas e Scikit Learn"
      ]
    },
    {
      "cell_type": "markdown",
      "metadata": {
        "id": "GSjoAYMvpZM9",
        "colab_type": "text"
      },
      "source": [
        "- Projeto: coletar dados do twitter, armazenar no MongoDB(orientado a documento), fazer análise com Pandas e Scikit Learn.\n",
        "\n",
        "- Fazer um Text Mining, que é uma das aplicações de técnicas de processamento de linguagem natural e métodos analíticos para entrair informações relevantes de dados de texto.\n",
        "\n",
        "- Criar uma API(App Programming Interface) para obter dados do Twitter, neste caso será usado o Twitter Streaming API, para fazer os downloads do twitter. "
      ]
    },
    {
      "cell_type": "markdown",
      "metadata": {
        "id": "XQq4yq6cpVCO",
        "colab_type": "text"
      },
      "source": [
        "## Preparando a Conexão com o Twitter"
      ]
    },
    {
      "cell_type": "code",
      "metadata": {
        "id": "nsY3NvIVpJJe",
        "colab_type": "code",
        "colab": {
          "base_uri": "https://localhost:8080/",
          "height": 207
        },
        "outputId": "ec1cb2fb-6903-4840-c009-4c4a446067cf"
      },
      "source": [
        "# Instala o pacote tweepy - entre py e twitter (! será executado no SO)\n",
        "!pip install tweepy"
      ],
      "execution_count": 34,
      "outputs": [
        {
          "output_type": "stream",
          "text": [
            "Requirement already satisfied: tweepy in /usr/local/lib/python3.6/dist-packages (3.6.0)\n",
            "Requirement already satisfied: six>=1.10.0 in /usr/local/lib/python3.6/dist-packages (from tweepy) (1.15.0)\n",
            "Requirement already satisfied: PySocks>=1.5.7 in /usr/local/lib/python3.6/dist-packages (from tweepy) (1.7.1)\n",
            "Requirement already satisfied: requests-oauthlib>=0.7.0 in /usr/local/lib/python3.6/dist-packages (from tweepy) (1.3.0)\n",
            "Requirement already satisfied: requests>=2.11.1 in /usr/local/lib/python3.6/dist-packages (from tweepy) (2.23.0)\n",
            "Requirement already satisfied: oauthlib>=3.0.0 in /usr/local/lib/python3.6/dist-packages (from requests-oauthlib>=0.7.0->tweepy) (3.1.0)\n",
            "Requirement already satisfied: chardet<4,>=3.0.2 in /usr/local/lib/python3.6/dist-packages (from requests>=2.11.1->tweepy) (3.0.4)\n",
            "Requirement already satisfied: idna<3,>=2.5 in /usr/local/lib/python3.6/dist-packages (from requests>=2.11.1->tweepy) (2.10)\n",
            "Requirement already satisfied: urllib3!=1.25.0,!=1.25.1,<1.26,>=1.21.1 in /usr/local/lib/python3.6/dist-packages (from requests>=2.11.1->tweepy) (1.24.3)\n",
            "Requirement already satisfied: certifi>=2017.4.17 in /usr/local/lib/python3.6/dist-packages (from requests>=2.11.1->tweepy) (2020.6.20)\n"
          ],
          "name": "stdout"
        }
      ]
    },
    {
      "cell_type": "code",
      "metadata": {
        "id": "xDia68D-rBxV",
        "colab_type": "code",
        "colab": {}
      },
      "source": [
        "# Importando os módulos Tweepy, Datetime e Json\n",
        "from tweepy.streaming import StreamListener # ouvinte de twitter\n",
        "from tweepy import OAuthHandler #autenticação com twitter\n",
        "from tweepy import Stream # operar com stream\n",
        "from datetime import datetime \n",
        "import json"
      ],
      "execution_count": 35,
      "outputs": []
    },
    {
      "cell_type": "code",
      "metadata": {
        "id": "4pFtXXNor8Nm",
        "colab_type": "code",
        "colab": {}
      },
      "source": [
        "# 1. Adicione aqui sua Consumer Key\n",
        "consumer_key = \"\""
      ],
      "execution_count": 36,
      "outputs": []
    },
    {
      "cell_type": "code",
      "metadata": {
        "id": "eQ8RzCO8sBQQ",
        "colab_type": "code",
        "colab": {}
      },
      "source": [
        "# 2. Adicione aqui sua Consumer Secret \n",
        "consumer_secret = \"\""
      ],
      "execution_count": 37,
      "outputs": []
    },
    {
      "cell_type": "code",
      "metadata": {
        "id": "3au6l_c2sIKY",
        "colab_type": "code",
        "colab": {}
      },
      "source": [
        "# 3. Adicione aqui seu Access Token\n",
        "access_token = \"\""
      ],
      "execution_count": 38,
      "outputs": []
    },
    {
      "cell_type": "code",
      "metadata": {
        "id": "6iyv9I7WsIVC",
        "colab_type": "code",
        "colab": {}
      },
      "source": [
        "# 4. Adicione aqui seu Access Token Secret\n",
        "access_token_secret = \"\""
      ],
      "execution_count": 39,
      "outputs": []
    },
    {
      "cell_type": "code",
      "metadata": {
        "id": "Kg6fPAkDu74N",
        "colab_type": "code",
        "colab": {}
      },
      "source": [
        "# Criando as chaves de autenticação do twitter\n",
        "auth = OAuthHandler(consumer_key, consumer_secret)"
      ],
      "execution_count": 40,
      "outputs": []
    },
    {
      "cell_type": "code",
      "metadata": {
        "id": "y29kw2kfsIpe",
        "colab_type": "code",
        "colab": {}
      },
      "source": [
        "# como a chave acima, autenticação do twitter\n",
        "auth.set_access_token(access_token, access_token_secret)"
      ],
      "execution_count": 41,
      "outputs": []
    },
    {
      "cell_type": "code",
      "metadata": {
        "id": "JL3JalgzsiZL",
        "colab_type": "code",
        "colab": {}
      },
      "source": [
        "# Criando uma classe para capturar os stream de dados do Twitter e \n",
        "# armazenar no MongoDB\n",
        "class MyListener(StreamListener):\n",
        "    def on_data(self, dados): #coleta os dados\n",
        "        tweet = json.loads(dados) #converte para json\n",
        "        created_at = tweet[\"created_at\"] # daqui para baixo (3), as colunas que serão coletadas (retiradas da documentação da API do twitter, informando quais infos podem ser coletadas)\n",
        "        id_str = tweet[\"id_str\"]\n",
        "        text = tweet[\"text\"]\n",
        "        obj = {\"created_at\":created_at,\"id_str\":id_str,\"text\":text,} # cria objeto\n",
        "        tweetind = col.insert_one(obj).inserted_id # insere no Mongo DB\n",
        "        print (obj)\n",
        "        return True"
      ],
      "execution_count": 24,
      "outputs": []
    },
    {
      "cell_type": "code",
      "metadata": {
        "id": "C1jzyOfIsime",
        "colab_type": "code",
        "colab": {}
      },
      "source": [
        "# Criando o objeto mylistener - instanciar um objeto dessa classe\n",
        "mylistener = MyListener()"
      ],
      "execution_count": 42,
      "outputs": []
    },
    {
      "cell_type": "code",
      "metadata": {
        "id": "Wwwpk7FLsp5T",
        "colab_type": "code",
        "colab": {}
      },
      "source": [
        "# Criando o objeto mystream (usando a fç Stream)\n",
        "mystream = Stream(auth, listener = mylistener)"
      ],
      "execution_count": 43,
      "outputs": []
    },
    {
      "cell_type": "markdown",
      "metadata": {
        "id": "NbNRbt-TstiV",
        "colab_type": "text"
      },
      "source": [
        "## Preparando a Conexão com o MongoDB\n"
      ]
    },
    {
      "cell_type": "code",
      "metadata": {
        "id": "gvf2K7VX4NdT",
        "colab_type": "code",
        "colab": {
          "base_uri": "https://localhost:8080/",
          "height": 34
        },
        "outputId": "8a594cdd-2e67-44ee-e8ce-c0fdc3c525aa"
      },
      "source": [
        "!pip install pymongo"
      ],
      "execution_count": 55,
      "outputs": [
        {
          "output_type": "stream",
          "text": [
            "Requirement already satisfied: pymongo in /usr/local/lib/python3.6/dist-packages (3.11.0)\n"
          ],
          "name": "stdout"
        }
      ]
    },
    {
      "cell_type": "code",
      "metadata": {
        "id": "3L6Ta-DJBIuf",
        "colab_type": "code",
        "colab": {}
      },
      "source": [
        "import pymongo"
      ],
      "execution_count": 72,
      "outputs": []
    },
    {
      "cell_type": "code",
      "metadata": {
        "id": "2Ln8w93lsxzN",
        "colab_type": "code",
        "colab": {}
      },
      "source": [
        "# Importando do PyMongo o módulo MongoClient\n",
        "from pymongo import MongoClient   "
      ],
      "execution_count": 73,
      "outputs": []
    },
    {
      "cell_type": "code",
      "metadata": {
        "id": "QCdHlq-xwZep",
        "colab_type": "code",
        "colab": {}
      },
      "source": [
        "# Criando a conexão ao MongoDB\n",
        "client = MongoClient('localhost', 27017)"
      ],
      "execution_count": 74,
      "outputs": []
    },
    {
      "cell_type": "code",
      "metadata": {
        "id": "AOuqDJjowZzE",
        "colab_type": "code",
        "colab": {}
      },
      "source": [
        "# Criando o banco de dados twitterdb\n",
        "db = client.novotwitterdb"
      ],
      "execution_count": 75,
      "outputs": []
    },
    {
      "cell_type": "code",
      "metadata": {
        "id": "Pt1XTShEwiDx",
        "colab_type": "code",
        "colab": {}
      },
      "source": [
        "# Criando a collection \"col\" (coleção é uma espécie de tabela)\n",
        "col = db.tweets "
      ],
      "execution_count": 76,
      "outputs": []
    },
    {
      "cell_type": "code",
      "metadata": {
        "id": "uIJ6u8qTwiN_",
        "colab_type": "code",
        "colab": {}
      },
      "source": [
        "# Criando uma lista de palavras chave para buscar nos Tweets\n",
        "keywords = ['Leeds', 'Bielsa', 'Liverpool', 'Firmino']"
      ],
      "execution_count": 77,
      "outputs": []
    },
    {
      "cell_type": "markdown",
      "metadata": {
        "id": "1RL9p2RLwilS",
        "colab_type": "text"
      },
      "source": [
        "## Coletando os Tweets\n",
        "\n",
        "## -> Pressione o botão Stop na barra de ferramentas para encerrar a captura dos Tweets"
      ]
    },
    {
      "cell_type": "code",
      "metadata": {
        "id": "sCoSfHr8xMmK",
        "colab_type": "code",
        "colab": {}
      },
      "source": [
        "# Iniciando o filtro e gravando os tweets no MongoDB\n",
        "mystream.filter(track=keywords)\n",
        "\n",
        "# ObS: se não conseguir fazer o download dos dados usar JNB, converter em csv:\n",
        "# df.to_csv(r'Path where you want to store the exported CSV file\\File Name.csv\n"
      ],
      "execution_count": 84,
      "outputs": []
    },
    {
      "cell_type": "markdown",
      "metadata": {
        "id": "eGbwp6slxkmX",
        "colab_type": "text"
      },
      "source": [
        "## Consultando os Dados no MongoDB"
      ]
    },
    {
      "cell_type": "code",
      "metadata": {
        "id": "XieXxOIwxm4r",
        "colab_type": "code",
        "colab": {}
      },
      "source": [
        "# Desconectar\n",
        "mystream.disconnect()"
      ],
      "execution_count": 80,
      "outputs": []
    },
    {
      "cell_type": "code",
      "metadata": {
        "id": "t9UCBmVIxrX7",
        "colab_type": "code",
        "colab": {}
      },
      "source": [
        "# Verificando um documento no collection (qualuqer registro(um twitt))\n",
        "col.find_one()"
      ],
      "execution_count": 84,
      "outputs": []
    },
    {
      "cell_type": "markdown",
      "metadata": {
        "id": "lSmRBg8Oxubx",
        "colab_type": "text"
      },
      "source": [
        "## Análise de Dados com Pandas e Scikit-Learn"
      ]
    },
    {
      "cell_type": "code",
      "metadata": {
        "id": "Buq8iP3Oxrw0",
        "colab_type": "code",
        "colab": {}
      },
      "source": [
        "# criando um dataset com dados retornados do MongoDB\n",
        "dataset = [{\"created_at\": item[\"created_at\"], \"text\": item[\"text\"],} for item in col.find()]"
      ],
      "execution_count": 86,
      "outputs": []
    },
    {
      "cell_type": "code",
      "metadata": {
        "id": "GeHWjJ5jxr-Z",
        "colab_type": "code",
        "colab": {}
      },
      "source": [
        "# Importando o módulo Pandas para trabalhar com datasets em Python\n",
        "import pandas as pd\n",
        "pd.__version__"
      ],
      "execution_count": null,
      "outputs": []
    },
    {
      "cell_type": "code",
      "metadata": {
        "id": "Dmjle2HlyD2V",
        "colab_type": "code",
        "colab": {}
      },
      "source": [
        "# Criando um dataframe a partir do dataset \n",
        "df = pd.DataFrame(dataset)"
      ],
      "execution_count": null,
      "outputs": []
    },
    {
      "cell_type": "code",
      "metadata": {
        "id": "Pv__VzF3yGSh",
        "colab_type": "code",
        "colab": {}
      },
      "source": [
        "# Imprimindo o dataframe\n",
        "df"
      ],
      "execution_count": null,
      "outputs": []
    },
    {
      "cell_type": "code",
      "metadata": {
        "id": "gwz613A3yGZ-",
        "colab_type": "code",
        "colab": {}
      },
      "source": [
        "# Importando o módulo Scikit Learn - contar as vezes que cada palavra aparece no conj de dados  \n",
        "from sklearn.feature_extraction.text import CountVectorizer"
      ],
      "execution_count": null,
      "outputs": []
    },
    {
      "cell_type": "code",
      "metadata": {
        "id": "x31RpB5xyO2c",
        "colab_type": "code",
        "colab": {}
      },
      "source": [
        "import sklearn\n",
        "sklearn.__version__"
      ],
      "execution_count": null,
      "outputs": []
    },
    {
      "cell_type": "code",
      "metadata": {
        "id": "wdPa9s69yTYB",
        "colab_type": "code",
        "colab": {}
      },
      "source": [
        "# Usando o método CountVectorizer para criar uma matriz de documentos\n",
        "cv = CountVectorizer()\n",
        "count_matrix = cv.fit_transform(df.text)"
      ],
      "execution_count": null,
      "outputs": []
    },
    {
      "cell_type": "code",
      "metadata": {
        "id": "WvhUUrFnyUe2",
        "colab_type": "code",
        "colab": {}
      },
      "source": [
        "# Contando o número de ocorrências das principais palavras em nosso dataset\n",
        "word_count = pd.DataFrame(cv.get_feature_names(), columns=[\"word\"])\n",
        "word_count[\"count\"] = count_matrix.sum(axis=0).tolist()[0]\n",
        "word_count = word_count.sort_values(\"count\", ascending=False).reset_index(drop=True)\n",
        "word_count[:50]"
      ],
      "execution_count": null,
      "outputs": []
    },
    {
      "cell_type": "markdown",
      "metadata": {
        "id": "pHx2XFgcFQhV",
        "colab_type": "text"
      },
      "source": [
        "OBS: CONEXÃO DO MONGODB COM O COLAB?\n",
        "\n",
        "\n",
        "Fim "
      ]
    }
  ]
}